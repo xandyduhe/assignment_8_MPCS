{
 "metadata": {
  "language_info": {
   "codemirror_mode": {
    "name": "ipython",
    "version": 3
   },
   "file_extension": ".py",
   "mimetype": "text/x-python",
   "name": "python",
   "nbconvert_exporter": "python",
   "pygments_lexer": "ipython3",
   "version": "3.7.5-final"
  },
  "orig_nbformat": 2,
  "kernelspec": {
   "name": "python37564bitanaconda3virtualenv9f4dfbb167384045848833e25d52f015",
   "display_name": "Python 3.7.5 64-bit ('anaconda3': virtualenv)"
  }
 },
 "nbformat": 4,
 "nbformat_minor": 2,
 "cells": [
  {
   "source": [
    "# Problem 2 - Big-O Notation of Human Algorithms\n",
    "----\n",
    "What is the time complexity, in big-O notation, of the following algorithms?\n",
    "  * Selecting the next best move in a game of tic tac toe.\n",
    "  * Reading a book, where `n` is the number of pages.\n",
    "  * Compiling a telephone or address book from a list of names/numbers.\n",
    "  * Determining if a number is odd or even.\n",
    "  * Finding a word in the dictionary.\n",
    "  * Checking if you have put all the items on your packing list in your suitcase."
   ],
   "cell_type": "markdown",
   "metadata": {}
  },
  {
   "source": [
    "Answer here..."
   ],
   "cell_type": "markdown",
   "metadata": {}
  },
  {
   "cell_type": "code",
   "execution_count": null,
   "metadata": {},
   "outputs": [],
   "source": []
  }
 ]
}