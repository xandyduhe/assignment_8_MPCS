{
 "metadata": {
  "language_info": {
   "codemirror_mode": {
    "name": "ipython",
    "version": 3
   },
   "file_extension": ".py",
   "mimetype": "text/x-python",
   "name": "python",
   "nbconvert_exporter": "python",
   "pygments_lexer": "ipython3",
   "version": "3.7.5-final"
  },
  "orig_nbformat": 2,
  "kernelspec": {
   "name": "python37564bitanaconda3virtualenv9f4dfbb167384045848833e25d52f015",
   "display_name": "Python 3.7.5 64-bit ('anaconda3': virtualenv)"
  }
 },
 "nbformat": 4,
 "nbformat_minor": 2,
 "cells": [
  {
   "source": [
    "# Problem 3\n",
    "----\n",
    "Consider the following three algorithms for determining whether anyone in the room has the same name as you.\n",
    "\n",
    "**Algorithm 1.** You say your name, and ask whether anyone in the room has the same name. If anyone does have the same name, they answer yes.\n",
    "\n",
    "**Algorithm 2.** You tell the first person your name, and ask if they have the same name; if they say no, you tell the second person your name and ask whether they have the same name; etc, for each person in the room.\n",
    "\n",
    "**Algorithm 3.** You only ask questions of person 1, who only asks questions of person 2, who only asks questions of person 3, etc. You tell person 1 your name, and ask if they have the same name; if they say no, you ask them to find out about person 2. Person 1 asks person 2 and tells you the answer. If it is no, you ask person 1 to find out about person 3. Person 1 asks person 2 to find out about person 3, etc.\n",
    "\n",
    "\n",
    "* For each algorithm, what is the factor that can affect the number of questions asked (the \"problem size\")?\n",
    "* In the worst case, how many questions will be asked for each of the three algorithms?\n",
    "* For each algorithm, say whether it is constant, linear, or quadratic in the problem size in the worst case."
   ],
   "cell_type": "markdown",
   "metadata": {}
  },
  {
   "source": [
    "_answer here_"
   ],
   "cell_type": "markdown",
   "metadata": {}
  }
 ]
}